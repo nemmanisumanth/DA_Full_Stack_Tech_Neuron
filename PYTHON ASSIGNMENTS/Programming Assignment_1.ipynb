{
 "cells": [
  {
   "cell_type": "markdown",
   "id": "637b47a5",
   "metadata": {},
   "source": [
    "## Programming Assignment_1\n",
    "-------------"
   ]
  },
  {
   "cell_type": "markdown",
   "id": "0c647dbe",
   "metadata": {},
   "source": [
    "### 1. Write a Python program to print \"Hello Python\"?"
   ]
  },
  {
   "cell_type": "code",
   "execution_count": 1,
   "id": "a1a41095",
   "metadata": {},
   "outputs": [
    {
     "name": "stdout",
     "output_type": "stream",
     "text": [
      "Hello Python\n"
     ]
    }
   ],
   "source": [
    "print(\"Hello Python\")"
   ]
  },
  {
   "cell_type": "markdown",
   "id": "fc18a6cd",
   "metadata": {},
   "source": [
    "### 2. Write a Python program to do arithmetical operations addition and division.?\n"
   ]
  },
  {
   "cell_type": "code",
   "execution_count": 5,
   "id": "2fe324e8",
   "metadata": {},
   "outputs": [
    {
     "name": "stdout",
     "output_type": "stream",
     "text": [
      "Enter the first number : 4\n",
      "Enter the first number : 2\n",
      "\n",
      "\n",
      "Additon of the given numbers is : 6\n",
      "Division of the given numbers is : 2.0\n"
     ]
    }
   ],
   "source": [
    "num1 = int(input(\"Enter the first number : \"))\n",
    "num2 = int(input(\"Enter the first number : \"))\n",
    "\n",
    "Addition = num1 + num2\n",
    "Division = num1 / num2\n",
    "\n",
    "print('\\n')\n",
    "\n",
    "print(\"Additon of the given numbers is :\",Addition)\n",
    "print(\"Division of the given numbers is :\",Division)"
   ]
  },
  {
   "cell_type": "markdown",
   "id": "af6e2429",
   "metadata": {},
   "source": [
    "### 3. Write a Python program to find the area of a triangle?\n"
   ]
  },
  {
   "cell_type": "code",
   "execution_count": 7,
   "id": "e07e08d4",
   "metadata": {},
   "outputs": [
    {
     "name": "stdout",
     "output_type": "stream",
     "text": [
      "Enter the Base of the Triangle in meters : 2\n",
      "Enter the Height of the Triangle in meters : 4\n",
      "\n",
      "\n",
      "Area of the Triangle is : 4.0 sq.m\n"
     ]
    }
   ],
   "source": [
    "Base = int(input(\"Enter the Base of the Triangle in meters : \"))\n",
    "Height = int(input(\"Enter the Height of the Triangle in meters : \"))\n",
    "\n",
    "Area = 0.5 * Base * Height\n",
    "\n",
    "print('\\n')\n",
    "\n",
    "print(\"Area of the Triangle is : {} sq.m\".format(Area))"
   ]
  },
  {
   "cell_type": "markdown",
   "id": "b8140061",
   "metadata": {},
   "source": [
    "### 4. Write a Python program to swap two variables?\n"
   ]
  },
  {
   "cell_type": "code",
   "execution_count": 9,
   "id": "7a88a4b2",
   "metadata": {},
   "outputs": [
    {
     "name": "stdout",
     "output_type": "stream",
     "text": [
      "Enter the first number : 1\n",
      "Enter the first number : 2\n",
      "\n",
      "\n",
      "After Swap the numbers are :\n",
      "The First Number is : 2\n",
      "The Second Number is : 1\n"
     ]
    }
   ],
   "source": [
    "num1 = int(input(\"Enter the first number : \"))\n",
    "num2 = int(input(\"Enter the first number : \"))\n",
    "\n",
    "temp = num1\n",
    "num1 = num2\n",
    "num2 = temp\n",
    "\n",
    "print('\\n')\n",
    "\n",
    "print(\"After Swap the numbers are :\")\n",
    "print(\"The First Number is :\",num1)\n",
    "print(\"The Second Number is :\",num2)\n"
   ]
  },
  {
   "cell_type": "markdown",
   "id": "3f8054c1",
   "metadata": {},
   "source": [
    "### 5. Write a Python program to generate a random number?\n"
   ]
  },
  {
   "cell_type": "code",
   "execution_count": 1,
   "id": "fcfd88c3",
   "metadata": {},
   "outputs": [
    {
     "name": "stdout",
     "output_type": "stream",
     "text": [
      "5585\n"
     ]
    }
   ],
   "source": [
    "import random\n",
    "print(random.randint(0,10000))"
   ]
  }
 ],
 "metadata": {
  "kernelspec": {
   "display_name": "Python 3 (ipykernel)",
   "language": "python",
   "name": "python3"
  },
  "language_info": {
   "codemirror_mode": {
    "name": "ipython",
    "version": 3
   },
   "file_extension": ".py",
   "mimetype": "text/x-python",
   "name": "python",
   "nbconvert_exporter": "python",
   "pygments_lexer": "ipython3",
   "version": "3.9.12"
  }
 },
 "nbformat": 4,
 "nbformat_minor": 5
}
